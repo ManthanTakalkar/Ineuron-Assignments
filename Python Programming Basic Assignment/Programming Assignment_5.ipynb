{
 "cells": [
  {
   "cell_type": "code",
   "execution_count": 1,
   "metadata": {},
   "outputs": [
    {
     "name": "stdout",
     "output_type": "stream",
     "text": [
      "Enter first number : 4\n",
      "Enter second number : 6\n",
      "The LCM of 4 and 6 is 12\n"
     ]
    }
   ],
   "source": [
    "# 1. Write a Python Program to Find LCM?\n",
    "\n",
    "def find_lcm(x,y):\n",
    "    if x > y :\n",
    "        greater = x\n",
    "    if x < y :\n",
    "        greater = y\n",
    "    \n",
    "    while(True):\n",
    "        if (greater % x == 0) and (greater % y == 0):\n",
    "            lcm = greater\n",
    "            break\n",
    "        greater+=1\n",
    "    return lcm\n",
    "  \n",
    "num1 = int(input(\"Enter first number : \"))  \n",
    "num2 = int(input(\"Enter second number : \"))  \n",
    "print(\"The LCM of\", num1,\"and\", num2,\"is\", find_lcm(num1, num2))        "
   ]
  },
  {
   "cell_type": "code",
   "execution_count": 2,
   "metadata": {},
   "outputs": [
    {
     "name": "stdout",
     "output_type": "stream",
     "text": [
      "Enter the first num -> 8\n",
      "Enter the second num -> 12\n",
      "The HCF of 8 and 12 is 4\n"
     ]
    }
   ],
   "source": [
    "# 2.Write a Python Program to Find HCF?\n",
    "\n",
    "import math\n",
    "a = int(input(\"Enter the first num -> \"))\n",
    "b = int(input(\"Enter the second num -> \"))\n",
    "hcf = math.gcd(a,b)\n",
    "print(\"The HCF of\", a,\"and\", b,\"is\", hcf)  "
   ]
  },
  {
   "cell_type": "code",
   "execution_count": 3,
   "metadata": {},
   "outputs": [
    {
     "name": "stdout",
     "output_type": "stream",
     "text": [
      "Enter the number in decimal format : 15\n",
      "The conversion of entered decimal number in binary format is : 1111\n",
      "The conversion of entered decimal number in octal format is : 17\n",
      "The conversion of entered decimal number in hexadecimal format is : f\n"
     ]
    }
   ],
   "source": [
    "# 3. Write a Python Program to Convert Decimal to Binary, Octal and Hexadecimal?\n",
    "\n",
    "a = int(input(\"Enter the number in decimal format : \"))\n",
    "print(\"The conversion of entered decimal number in binary format is :\", bin(a)[2:])\n",
    "print(\"The conversion of entered decimal number in octal format is :\", oct(a)[2:])\n",
    "print(\"The conversion of entered decimal number in hexadecimal format is :\", hex(a)[2:]) "
   ]
  },
  {
   "cell_type": "code",
   "execution_count": 4,
   "metadata": {},
   "outputs": [
    {
     "name": "stdout",
     "output_type": "stream",
     "text": [
      "Enter a character ~ Z\n",
      "The ASCII value of Z is 90\n"
     ]
    }
   ],
   "source": [
    "# 4.Write a Python Program To Find ASCII value of a character?\n",
    "\n",
    "m = input(\"Enter a character ~ \")\n",
    "print(f\"The ASCII value of {m} is\", ord(m))"
   ]
  },
  {
   "cell_type": "code",
   "execution_count": 9,
   "metadata": {},
   "outputs": [
    {
     "name": "stdout",
     "output_type": "stream",
     "text": [
      "Select operation.\n",
      "1.Add\n",
      "2.Subtract\n",
      "3.Multiply\n",
      "4.Divide\n",
      "\n",
      "Enter the operation ~ 3\n",
      "Enter the number : 20\n",
      "Enter the number : 0.5\n",
      "20.0 * 0.5 = 10.0\n"
     ]
    }
   ],
   "source": [
    "# 5. Write a Python Program to Make a Simple Calculator with 4 basic mathematical operations?\n",
    "\n",
    "print(\"Select operation.\")\n",
    "print(\"1.Add\")\n",
    "print(\"2.Subtract\")\n",
    "print(\"3.Multiply\")\n",
    "print(\"4.Divide\" + \"\\n\")\n",
    "\n",
    "ch = int(input(\"Enter the operation ~ \"))\n",
    "a = float(input(\"Enter the number : \"))\n",
    "b = float(input(\"Enter the number : \"))\n",
    "\n",
    "if ch == 1:\n",
    "    print(\"{} + {} =\".format(a,b),a + b)\n",
    "elif ch == 2:\n",
    "    print(\"{} - {} =\".format(a,b),a - b)\n",
    "elif ch == 3:\n",
    "    print(\"{} * {} =\".format(a,b),a * b)\n",
    "elif ch == 4:\n",
    "    print(\"{} / {} =\".format(a,b),a / b)\n",
    "else:\n",
    "    print(\"Invalid\")\n",
    "    \n",
    "    "
   ]
  }
 ],
 "metadata": {
  "kernelspec": {
   "display_name": "Python 3",
   "language": "python",
   "name": "python3"
  },
  "language_info": {
   "codemirror_mode": {
    "name": "ipython",
    "version": 3
   },
   "file_extension": ".py",
   "mimetype": "text/x-python",
   "name": "python",
   "nbconvert_exporter": "python",
   "pygments_lexer": "ipython3",
   "version": "3.8.5"
  }
 },
 "nbformat": 4,
 "nbformat_minor": 4
}
