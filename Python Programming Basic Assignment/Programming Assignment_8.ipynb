{
 "cells": [
  {
   "cell_type": "code",
   "execution_count": 1,
   "metadata": {},
   "outputs": [
    {
     "name": "stdout",
     "output_type": "stream",
     "text": [
      "Matrix a :\n",
      " [[7 8 9]\n",
      " [5 4 3]\n",
      " [1 2 0]]\n",
      "Matrix b :\n",
      " [[1 1 1]\n",
      " [0 0 0]\n",
      " [0 0 1]]\n",
      "Addition of matrix a and matrix b is :- \n",
      "[[ 8  9 10]\n",
      " [ 5  4  3]\n",
      " [ 1  2  1]]\n"
     ]
    }
   ],
   "source": [
    "#1. Write a Python Program to Add Two Matrices?\n",
    "\n",
    "import numpy as np\n",
    "a = np.matrix([[7,8,9],[5,4,3],[1,2,0]])\n",
    "print('Matrix a :\\n',a)\n",
    "b = np.matrix([[1,1,1],[0,0,0],[0,0,1]])\n",
    "print('Matrix b :\\n',b)\n",
    "C = a + b\n",
    "print('Addition of matrix a and matrix b is :- \\n{}'.format(C))"
   ]
  },
  {
   "cell_type": "code",
   "execution_count": 2,
   "metadata": {},
   "outputs": [
    {
     "name": "stdout",
     "output_type": "stream",
     "text": [
      "Matrix a :\n",
      " [[ 9 10]\n",
      " [ 5  4]]\n",
      "Matrix b :\n",
      " [[1 1]\n",
      " [0 0]]\n",
      "Multiplication of matrix a and matrix b is :- \n",
      "[[9 9]\n",
      " [5 5]]\n"
     ]
    }
   ],
   "source": [
    "#2. Write a Python Program to Multiply Two Matrices?\n",
    "\n",
    "import numpy as np\n",
    "a = np.matrix([[9,10],[5,4]])\n",
    "print('Matrix a :\\n',a)\n",
    "b = np.matrix([[1,1],[0,0]])\n",
    "print('Matrix b :\\n',b)\n",
    "C = a * b\n",
    "print('Multiplication of matrix a and matrix b is :- \\n{}'.format(C))"
   ]
  },
  {
   "cell_type": "code",
   "execution_count": 3,
   "metadata": {},
   "outputs": [
    {
     "name": "stdout",
     "output_type": "stream",
     "text": [
      "Matrix Before Transpose :\n",
      " [[1 8 9]\n",
      " [9 2 3]\n",
      " [0 2 0]]\n",
      "Matrix After Transpose : \n",
      " [[1 9 0]\n",
      " [8 2 2]\n",
      " [9 3 0]]\n"
     ]
    }
   ],
   "source": [
    "#3. Write a Python Program to Transpose a Matrix?\n",
    "\n",
    "Mat = np.mat([[1,8,9],[9,2,3],[0,2,0]])\n",
    "print(\"Matrix Before Transpose :\\n\",Mat)\n",
    "print(\"Matrix After Transpose : \\n\",Mat.T)"
   ]
  },
  {
   "cell_type": "code",
   "execution_count": 4,
   "metadata": {},
   "outputs": [
    {
     "name": "stdout",
     "output_type": "stream",
     "text": [
      "Enter the String : takalkar\n",
      "Unsorted word : takalkar\n",
      "Sorted Word : aaakklrt\n"
     ]
    }
   ],
   "source": [
    "#4. Write a Python Program to Sort Words in Alphabetic Order?\n",
    "\n",
    "str1 = (input(\"Enter the String : \"))\n",
    "print('Unsorted word :',str1)\n",
    "li = list(str1)\n",
    "li.sort()\n",
    "print(\"Sorted Word : \",*li,sep='')"
   ]
  },
  {
   "cell_type": "code",
   "execution_count": 13,
   "metadata": {},
   "outputs": [
    {
     "name": "stdout",
     "output_type": "stream",
     "text": [
      "Enter the string with punctuation:- ma'[;n!th$@?a%n\n",
      "String without punctuation is :  manthan\n"
     ]
    }
   ],
   "source": [
    "# 5. Write a Python Program to Remove Punctuation From a String?\n",
    "\n",
    "def rem_punctuation(str):\n",
    "    punctuation = '''!()-[]{};:'\"\\, <>./?@#$%^&*_~'''\n",
    "    for i in str:\n",
    "        if i in punctuation:\n",
    "            str = str.replace(i,\"\")\n",
    "    print(\"String without punctuation is : \",str)        \n",
    "rem_punctuation(input(\"Enter the string with punctuation:- \"))           "
   ]
  },
  {
   "cell_type": "code",
   "execution_count": null,
   "metadata": {},
   "outputs": [],
   "source": []
  },
  {
   "cell_type": "code",
   "execution_count": null,
   "metadata": {},
   "outputs": [],
   "source": []
  }
 ],
 "metadata": {
  "kernelspec": {
   "display_name": "Python 3",
   "language": "python",
   "name": "python3"
  },
  "language_info": {
   "codemirror_mode": {
    "name": "ipython",
    "version": 3
   },
   "file_extension": ".py",
   "mimetype": "text/x-python",
   "name": "python",
   "nbconvert_exporter": "python",
   "pygments_lexer": "ipython3",
   "version": "3.8.5"
  }
 },
 "nbformat": 4,
 "nbformat_minor": 4
}
