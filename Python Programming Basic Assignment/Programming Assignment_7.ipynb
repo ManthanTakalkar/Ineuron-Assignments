{
 "cells": [
  {
   "cell_type": "code",
   "execution_count": 1,
   "metadata": {},
   "outputs": [
    {
     "name": "stdout",
     "output_type": "stream",
     "text": [
      "Array is [1, 2, 3, 4, 5, 6]\n",
      "Sum of the array is : 21\n"
     ]
    }
   ],
   "source": [
    "#1. Write a Python Program to find sum of array?\n",
    "\n",
    "arr = [i for i in range(1,7)]\n",
    "print('Array is',arr)\n",
    "print('Sum of the array is :',sum(arr))"
   ]
  },
  {
   "cell_type": "code",
   "execution_count": 2,
   "metadata": {},
   "outputs": [
    {
     "name": "stdout",
     "output_type": "stream",
     "text": [
      "Array is --> [32, 110, 11, 131, 86, 60, 50, 108, 76]\n",
      "largest element in an array is 131\n"
     ]
    }
   ],
   "source": [
    "# 2. Write a Python Program to find largest element in an array?\n",
    "\n",
    "import random\n",
    "arr1 = [i for i in random.sample(range(150),9)]\n",
    "print('Array is -->', arr1)\n",
    "print('largest element in an array is',max(arr1))"
   ]
  },
  {
   "cell_type": "code",
   "execution_count": 3,
   "metadata": {},
   "outputs": [
    {
     "name": "stdout",
     "output_type": "stream",
     "text": [
      "Array is -->\n",
      "[18, 16, 9, 24, 27, 17, 12, 29, 8]\n",
      "Rotated Array :\n",
      "[8, 29, 12, 17, 27, 24, 9, 16, 18]\n"
     ]
    }
   ],
   "source": [
    "#3. Write a Python Program for array rotation?\n",
    "\n",
    "import random\n",
    "arr2 = random.sample(range(40),9)\n",
    "print('Array is -->')\n",
    "print(arr2)\n",
    "arr2.reverse()\n",
    "print('Rotated Array :')\n",
    "print(arr2)"
   ]
  },
  {
   "cell_type": "code",
   "execution_count": 4,
   "metadata": {},
   "outputs": [
    {
     "name": "stdout",
     "output_type": "stream",
     "text": [
      "Array is --> [16, 5, 18, 8, 21, 24, 4, 17, 11, 14]\n",
      "Enter how many elements you want split : 4\n",
      "Your Splitted Array :\n",
      "[16, 5, 18, 8]\n",
      "Adding first part to the end :-\n",
      "[21, 24, 4, 17, 11, 14, 16, 5, 18, 8]\n"
     ]
    }
   ],
   "source": [
    "#4. Write a Python Program to Split the array and add the first part to the end?\n",
    "\n",
    "import random\n",
    "arr3 = random.sample(range(25),10)\n",
    "print('Array is -->',arr3)\n",
    "split_n = int(input('Enter how many elements you want split : '))\n",
    "print('Your Splitted Array :')\n",
    "ext = arr3[:split_n]\n",
    "print(ext)\n",
    "print(\"Adding first part to the end :-\")\n",
    "del arr3[:split_n]\n",
    "arr3.extend(ext)\n",
    "print(arr3)"
   ]
  },
  {
   "cell_type": "code",
   "execution_count": 5,
   "metadata": {},
   "outputs": [
    {
     "name": "stdout",
     "output_type": "stream",
     "text": [
      "Enter how many elements you want in an array :4\n",
      "Enter the elements:23\n",
      "Enter the elements:15\n",
      "Enter the elements:7\n",
      "Enter the elements:3\n",
      "[23, 15, 7, 3]\n",
      "Array is monotonic\n"
     ]
    }
   ],
   "source": [
    "#5. Write a Python Program to check if given array is Monotonic?\n",
    "\n",
    "def is_monotonic(array):\n",
    "    return (all(arr[i]>=arr[i+1] for i in range(len(arr)-1)) or all(arr[i]<=arr[i+1] for i in range(len(arr)-1)))\n",
    "a = []\n",
    "n_ele = int(input(\"Enter how many elements you want in an array :\"))\n",
    "for i in range(n_ele):\n",
    "    element = int(input(\"Enter the elements:\"))\n",
    "    a.append(element)\n",
    "print(a)\n",
    "if is_monotonic(a) == True:\n",
    "    print(\"Array is monotonic\")\n",
    "else:\n",
    "    print(\"Array is not montonic\")"
   ]
  },
  {
   "cell_type": "code",
   "execution_count": null,
   "metadata": {},
   "outputs": [],
   "source": []
  }
 ],
 "metadata": {
  "kernelspec": {
   "display_name": "Python 3",
   "language": "python",
   "name": "python3"
  },
  "language_info": {
   "codemirror_mode": {
    "name": "ipython",
    "version": 3
   },
   "file_extension": ".py",
   "mimetype": "text/x-python",
   "name": "python",
   "nbconvert_exporter": "python",
   "pygments_lexer": "ipython3",
   "version": "3.8.5"
  }
 },
 "nbformat": 4,
 "nbformat_minor": 4
}
