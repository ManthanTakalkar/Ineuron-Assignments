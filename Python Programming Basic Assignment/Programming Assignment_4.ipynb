{
 "cells": [
  {
   "cell_type": "code",
   "execution_count": 1,
   "metadata": {},
   "outputs": [
    {
     "name": "stdout",
     "output_type": "stream",
     "text": [
      "Enter the number greater than or equal 0 : 5\n",
      "The entered number is 5\n",
      "Factorial is 120\n"
     ]
    }
   ],
   "source": [
    "#1. Write a Python Program to Find the Factorial of a Number?\n",
    "\n",
    "num=int(input(\"Enter the number greater than or equal 0 : \"))\n",
    "print(\"The entered number is\",num)\n",
    "\n",
    "factorial=1\n",
    "if num == 0:\n",
    "   print(\"The factorial of 0 is 1\")\n",
    "else:\n",
    "    for i in range(1, num+1):\n",
    "        factorial=factorial * i\n",
    "    print(\"Factorial is\",factorial)"
   ]
  },
  {
   "cell_type": "code",
   "execution_count": 2,
   "metadata": {},
   "outputs": [
    {
     "name": "stdout",
     "output_type": "stream",
     "text": [
      "Enter the number :11\n",
      "The Multiplication Table of 11 is->\n",
      "11 x 1 = 11\n",
      "11 x 2 = 22\n",
      "11 x 3 = 33\n",
      "11 x 4 = 44\n",
      "11 x 5 = 55\n",
      "11 x 6 = 66\n",
      "11 x 7 = 77\n",
      "11 x 8 = 88\n",
      "11 x 9 = 99\n",
      "11 x 10 = 110\n"
     ]
    }
   ],
   "source": [
    "# 2. Write a Python Program to Display the multiplication Table?\n",
    "\n",
    "num=int(input(\"Enter the number :\"))\n",
    "print(f\"The Multiplication Table of {num} is->\")\n",
    "for i in range(1,11):\n",
    "    print(num, 'x' ,i ,'=' ,num*i)\n"
   ]
  },
  {
   "cell_type": "code",
   "execution_count": 3,
   "metadata": {},
   "outputs": [
    {
     "name": "stdout",
     "output_type": "stream",
     "text": [
      "Enter the number of terms to be printed :- 12\n",
      "The number of terms to be printed is :  12\n",
      "0\n",
      "1\n",
      "1\n",
      "2\n",
      "3\n",
      "5\n",
      "8\n",
      "13\n",
      "21\n",
      "34\n",
      "55\n",
      "89\n"
     ]
    }
   ],
   "source": [
    "# 3. Write a Python Program to Print the Fibonacci sequence?\n",
    "\n",
    "input = int(input(\"Enter the number of terms to be printed :- \"))\n",
    "print(\"The number of terms to be printed is : \",input)\n",
    "a = 0\n",
    "b = 1\n",
    "for i in range(input):\n",
    "    print(a)\n",
    "    c = a+b\n",
    "    a = b\n",
    "    b = c "
   ]
  },
  {
   "cell_type": "code",
   "execution_count": 2,
   "metadata": {},
   "outputs": [
    {
     "name": "stdout",
     "output_type": "stream",
     "text": [
      "Enter the number to Check Armstrong Number: 200\n",
      "200 is not a Armstrong Number\n"
     ]
    }
   ],
   "source": [
    "#4.Write a Python Program to Check Armstrong Number?\n",
    "\n",
    "num1=int(input(\"Enter the number to Check Armstrong Number: \"))\n",
    "\n",
    "l=len(str(num1))\n",
    "\n",
    "sum=0\n",
    "temp = num1\n",
    "while temp > 0:\n",
    "    p = temp % 10\n",
    "    sum += p ** l\n",
    "    temp //=10\n",
    "if num1 == sum:\n",
    "    print(num1,\"is Armstrong Number\")\n",
    "else:\n",
    "    print(num1,'is not a Armstrong Number')"
   ]
  },
  {
   "cell_type": "code",
   "execution_count": 3,
   "metadata": {},
   "outputs": [
    {
     "name": "stdout",
     "output_type": "stream",
     "text": [
      "Enter the start point: 1\n",
      "Enter the end point: 700\n",
      "1\n",
      "2\n",
      "3\n",
      "4\n",
      "5\n",
      "6\n",
      "7\n",
      "8\n",
      "9\n",
      "153\n",
      "370\n",
      "371\n",
      "407\n"
     ]
    }
   ],
   "source": [
    "#5. Write a Python Program to Find Armstrong Number in an Interval?\n",
    "\n",
    "e=int(input(\"Enter the start point: \"))\n",
    "f=int(input(\"Enter the end point: \"))\n",
    "\n",
    "for i in range(e,f):\n",
    "    mk=len(str(i))\n",
    "    total=0\n",
    "    x = i\n",
    "    while x > 0:\n",
    "        m = x % 10\n",
    "        total += m ** mk\n",
    "        x //=10\n",
    "    if i == total:\n",
    "        print(i)\n"
   ]
  },
  {
   "cell_type": "code",
   "execution_count": 4,
   "metadata": {},
   "outputs": [
    {
     "name": "stdout",
     "output_type": "stream",
     "text": [
      "Enter the number : 10\n",
      "Entered number is 10\n",
      "Sum of natural number upto 10: 55\n"
     ]
    }
   ],
   "source": [
    "# 6. Write a Python Program to Find the Sum of Natural Numbers?\n",
    "\n",
    "num2 = int(input(\"Enter the number : \"))\n",
    "print(\"Entered number is\",num2)\n",
    "if num2 <= 0:\n",
    "    print(\"Number is not a natural number\")\n",
    "else:\n",
    "    print(f\"Sum of natural number upto {num2}:\",((num2 * (num2 + 1)) // 2))"
   ]
  }
 ],
 "metadata": {
  "kernelspec": {
   "display_name": "Python 3",
   "language": "python",
   "name": "python3"
  },
  "language_info": {
   "codemirror_mode": {
    "name": "ipython",
    "version": 3
   },
   "file_extension": ".py",
   "mimetype": "text/x-python",
   "name": "python",
   "nbconvert_exporter": "python",
   "pygments_lexer": "ipython3",
   "version": "3.8.5"
  }
 },
 "nbformat": 4,
 "nbformat_minor": 4
}
