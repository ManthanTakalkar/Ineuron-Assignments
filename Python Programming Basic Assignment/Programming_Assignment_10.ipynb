{
 "cells": [
  {
   "cell_type": "code",
   "execution_count": 1,
   "metadata": {},
   "outputs": [
    {
     "name": "stdout",
     "output_type": "stream",
     "text": [
      "List is :- [1, 3, 5, 7, 9, 11, 13, 15, 17, 19, 21, 23, 25, 27, 29]\n",
      "Sum of elements in list --> 225\n"
     ]
    }
   ],
   "source": [
    "# 1. Write a Python program to find sum of elements in list?\n",
    "\n",
    "l1 = [i for i in range(1,30,2)]\n",
    "print(\"List is :-\", l1)\n",
    "print(\"Sum of elements in list -->\",sum(l1))"
   ]
  },
  {
   "cell_type": "code",
   "execution_count": 2,
   "metadata": {},
   "outputs": [
    {
     "name": "stdout",
     "output_type": "stream",
     "text": [
      "List is :- [2, 5, 8]\n",
      "Multiplication of elements in list --> 80\n"
     ]
    }
   ],
   "source": [
    "# 2. Write a Python program to Multiply all numbers in the list?\n",
    "\n",
    "l2 = [i for i in range(2,11,3)]\n",
    "print(\"List is :-\", l2)\n",
    "mul = 1\n",
    "for i in l2:\n",
    "    mul *= i\n",
    "print(\"Multiplication of elements in list -->\",(mul))"
   ]
  },
  {
   "cell_type": "code",
   "execution_count": 3,
   "metadata": {},
   "outputs": [
    {
     "name": "stdout",
     "output_type": "stream",
     "text": [
      "List ->>\n",
      "[97, 64, 8, 75, 35, 93, 46, 39, 86, 73, 31, 0, 77, 12, 26, 88, 15, 43, 16, 67]\n",
      "Sorted list ->>\n",
      "[0, 8, 12, 15, 16, 26, 31, 35, 39, 43, 46, 64, 67, 73, 75, 77, 86, 88, 93, 97]\n",
      "Smallest number in a list is : 0\n"
     ]
    }
   ],
   "source": [
    "# 3. Write a Python program to find smallest number in a list?\n",
    "\n",
    "import random\n",
    "l3 = random.sample(range(100),20)\n",
    "print(\"List ->>\")\n",
    "print(l3)\n",
    "print(\"Sorted list ->>\")\n",
    "l3.sort()\n",
    "print(l3)\n",
    "print(\"Smallest number in a list is :\", l3[0])"
   ]
  },
  {
   "cell_type": "code",
   "execution_count": 4,
   "metadata": {},
   "outputs": [
    {
     "name": "stdout",
     "output_type": "stream",
     "text": [
      "List -->\n",
      "[70, 36, 59, 14, 26, 95, 5, 81, 54, 9, 17, 79, 80, 67, 61, 44, 58, 40, 18, 82]\n",
      "Sorted list -->\n",
      "[5, 9, 14, 17, 18, 26, 36, 40, 44, 54, 58, 59, 61, 67, 70, 79, 80, 81, 82, 95]\n",
      "Largest number in a list is :\n",
      "95\n"
     ]
    }
   ],
   "source": [
    "#4. Write a Python program to find largest number in a list?\n",
    "\n",
    "import random\n",
    "l4 = random.sample(range(100),20)\n",
    "print(\"List -->\")\n",
    "print(l4)\n",
    "print(\"Sorted list -->\")\n",
    "l4.sort()\n",
    "print(l4)\n",
    "print(\"Largest number in a list is :\")\n",
    "print(l4[-1])\n"
   ]
  },
  {
   "cell_type": "code",
   "execution_count": 5,
   "metadata": {},
   "outputs": [
    {
     "name": "stdout",
     "output_type": "stream",
     "text": [
      "List -->\n",
      "[41, 46, 24, 6, 54, 64, 23, 77, 91, 36, 34, 28, 45, 29, 72, 13, 32, 12, 22, 0]\n",
      "Sorted list -->\n",
      "[0, 6, 12, 13, 22, 23, 24, 28, 29, 32, 34, 36, 41, 45, 46, 54, 64, 72, 77, 91]\n",
      "Second largest number in a list is :\n",
      "77\n"
     ]
    }
   ],
   "source": [
    "#5. Write a Python program to find second largest number in a list?\n",
    "\n",
    "import random\n",
    "l5 = random.sample(range(100),20)\n",
    "print(\"List -->\")\n",
    "print(l5)\n",
    "print(\"Sorted list -->\")\n",
    "l5.sort()\n",
    "print(l5)\n",
    "print(\"Second largest number in a list is :\")\n",
    "print(l5[-2])"
   ]
  },
  {
   "cell_type": "code",
   "execution_count": 6,
   "metadata": {},
   "outputs": [
    {
     "name": "stdout",
     "output_type": "stream",
     "text": [
      "List -->\n",
      "[56, 18, 68, 65, 19, 59, 57, 9, 14, 21, 51, 20, 44, 58, 2]\n",
      "Even numbers in list are : [56, 18, 68, 14, 20, 44, 58, 2]\n"
     ]
    }
   ],
   "source": [
    "#7. Write a Python program to print even numbers in a list?\n",
    "\n",
    "import random\n",
    "l7 = [i for i in random.sample(range(80),15)]\n",
    "print(\"List -->\")\n",
    "print(l7)\n",
    "even_no = []\n",
    "for i in l7:\n",
    "    if i % 2 == 0:\n",
    "        even_no.append(i)\n",
    "print(\"Even numbers in list are :\", even_no)        \n"
   ]
  },
  {
   "cell_type": "code",
   "execution_count": 7,
   "metadata": {},
   "outputs": [
    {
     "name": "stdout",
     "output_type": "stream",
     "text": [
      "List -->\n",
      "[55, 38, 33, 50, 71, 44, 46, 63, 58, 31, 3, 12, 40, 65, 24]\n",
      "Odd numbers in list are -->\n",
      "[55, 33, 71, 63, 31, 3, 65]\n"
     ]
    }
   ],
   "source": [
    "#8. Write a Python program to print odd numbers in a List?\n",
    "\n",
    "import random\n",
    "l8 = [i for i in random.sample(range(80),15)]\n",
    "print(\"List -->\")\n",
    "print(l8)\n",
    "odd_no = []\n",
    "for i in l8:\n",
    "    if i % 2 == 1:\n",
    "        odd_no.append(i)\n",
    "print(\"Odd numbers in list are -->\")\n",
    "print(odd_no)\n"
   ]
  },
  {
   "cell_type": "code",
   "execution_count": 8,
   "metadata": {
    "scrolled": true
   },
   "outputs": [
    {
     "name": "stdout",
     "output_type": "stream",
     "text": [
      "List :\n",
      "[[1, 2, 4, 5, 8, 9], ['MKT', 'Manthan'], []]\n",
      "List after removing empty list :\n",
      "[[1, 2, 4, 5, 8, 9], ['MKT', 'Manthan']]\n"
     ]
    }
   ],
   "source": [
    "#9. Write a Python program to Remove empty List from List?\n",
    "\n",
    "l9 = [[1,2,4,5,8,9],[\"MKT\", \"Manthan\"],[]]\n",
    "print(\"List :\")\n",
    "print(l9)\n",
    "l9.remove([])\n",
    "print(\"List after removing empty list :\")\n",
    "print(l9)"
   ]
  },
  {
   "cell_type": "code",
   "execution_count": 9,
   "metadata": {},
   "outputs": [
    {
     "name": "stdout",
     "output_type": "stream",
     "text": [
      "List:-\n",
      "[[1, 2, 4, 5, 8, 9], ['MKT', 'Manthan'], 2, 4, 8, 12, 72]\n",
      "copied list:-\n",
      "[[1, 2, 4, 5, 8, 9], ['MKT', 'Manthan'], 2, 4, 8, 12, 72]\n"
     ]
    }
   ],
   "source": [
    "#10. Write a Python program to Cloning or Copying a list?\n",
    "\n",
    "l10 = [[1,2,4,5,8,9],[\"MKT\", \"Manthan\"],2,4,8,12,72]\n",
    "print(\"List:-\")\n",
    "print(l10)\n",
    "l10_copy=l10.copy()\n",
    "print(\"copied list:-\")\n",
    "print(l10_copy)"
   ]
  },
  {
   "cell_type": "code",
   "execution_count": null,
   "metadata": {},
   "outputs": [],
   "source": []
  }
 ],
 "metadata": {
  "kernelspec": {
   "display_name": "Python 3",
   "language": "python",
   "name": "python3"
  },
  "language_info": {
   "codemirror_mode": {
    "name": "ipython",
    "version": 3
   },
   "file_extension": ".py",
   "mimetype": "text/x-python",
   "name": "python",
   "nbconvert_exporter": "python",
   "pygments_lexer": "ipython3",
   "version": "3.8.5"
  }
 },
 "nbformat": 4,
 "nbformat_minor": 4
}
