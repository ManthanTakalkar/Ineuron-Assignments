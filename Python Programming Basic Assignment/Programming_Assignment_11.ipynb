{
 "cells": [
  {
   "cell_type": "code",
   "execution_count": 4,
   "metadata": {},
   "outputs": [
    {
     "name": "stdout",
     "output_type": "stream",
     "text": [
      "enter the string :- Always be a happy person\n",
      "enter the desired length : 4\n",
      "All words which are greater than given length are-->  Always happy person\n"
     ]
    }
   ],
   "source": [
    "# 1. Write a Python program to find words which are greater than given length k?\n",
    "\n",
    "my_str = input(\"enter the string :- \")\n",
    "l = []\n",
    "len_K = int(input(\"enter the desired length : \"))\n",
    "inpu = my_str.split(\" \")\n",
    "for word in inpu:\n",
    "    if len(word) > len_K:\n",
    "        l.append(word)\n",
    "print(\"All words which are greater than given length are--> \",*l)    "
   ]
  },
  {
   "cell_type": "code",
   "execution_count": 3,
   "metadata": {},
   "outputs": [
    {
     "name": "stdout",
     "output_type": "stream",
     "text": [
      "Enter the string: soome\n",
      "Enter the no. of character which you want remove: 2\n",
      "some\n"
     ]
    }
   ],
   "source": [
    "# 2. Write a Python program for removing i-th character from a string?\n",
    "\n",
    "str1_ip = input(\"Enter the string: \")\n",
    "remove = int(input(\"Enter the no. of character which you want remove: \"))\n",
    "if remove > len(str1_ip):\n",
    "    print('Invalid input')\n",
    "else:\n",
    "    print(str1_ip.replace(str1_ip[remove-1],'',1))"
   ]
  },
  {
   "cell_type": "code",
   "execution_count": 4,
   "metadata": {},
   "outputs": [
    {
     "name": "stdout",
     "output_type": "stream",
     "text": [
      "Enter the string: hi hello\n",
      "Splitted string : ['hi', 'hello']\n",
      "Joined string : hi;hello\n"
     ]
    }
   ],
   "source": [
    "# 3. Write a Python program to split and join a string?\n",
    "\n",
    "str2 = input(\"Enter the string: \")\n",
    "str2_splt = str2.split()\n",
    "print('Splitted string :',str2_splt)\n",
    "str2 = ';'.join(str2_splt)\n",
    "print(f'Joined string : {str2}')"
   ]
  },
  {
   "cell_type": "code",
   "execution_count": 6,
   "metadata": {},
   "outputs": [
    {
     "name": "stdout",
     "output_type": "stream",
     "text": [
      "Enter the string: 101011111\n",
      "String is binary\n"
     ]
    }
   ],
   "source": [
    "# 4. Write a Python to check if a given string is binary string or not?\n",
    "\n",
    "str_2 = set(input(\"Enter the string: \"))\n",
    "bi = {'1','0'}\n",
    "if str_2 == bi or str_2 == {'0'} or str_2 == {'1'}: \n",
    "    print(\"String is binary\")\n",
    "else:\n",
    "    print('Not a binary string')    "
   ]
  },
  {
   "cell_type": "code",
   "execution_count": 7,
   "metadata": {},
   "outputs": [
    {
     "name": "stdout",
     "output_type": "stream",
     "text": [
      "Enter the string : dave\n",
      "Enter the string : favor\n",
      "Uncommon words are:  e d o f r\n"
     ]
    }
   ],
   "source": [
    "# 5. Write a Python program to find uncommon words from two Strings?\n",
    "\n",
    "def uncommon_word(str3,str4):\n",
    "    uncommon = str3.symmetric_difference(str4)\n",
    "    print('Uncommon words are: ',*uncommon)\n",
    "str3 = set(input(\"Enter the string : \"))\n",
    "str4 = set(input(\"Enter the string : \"))\n",
    "\n",
    "uncommon_word(str3,str4)"
   ]
  },
  {
   "cell_type": "code",
   "execution_count": 8,
   "metadata": {},
   "outputs": [
    {
     "name": "stdout",
     "output_type": "stream",
     "text": [
      "Enter the string : batista\n",
      "string without duplicate:  b a t i s\n",
      "Duplicates in string:  t a\n"
     ]
    }
   ],
   "source": [
    "# 6. Write a Python to find all duplicate characters in string?\n",
    "\n",
    "str5 = (input(\"Enter the string : \"))\n",
    "l1 = []\n",
    "l2 = []\n",
    "j=0\n",
    "while j < len(str5):\n",
    "    if str5[j] not in l1:\n",
    "        l1.append(str5[j])\n",
    "    else:\n",
    "        l2.append(str5[j])\n",
    "    j+=1\n",
    "print(\"string without duplicate: \",*l1)\n",
    "print(\"Duplicates in string: \",*l2)"
   ]
  },
  {
   "cell_type": "code",
   "execution_count": 9,
   "metadata": {},
   "outputs": [
    {
     "name": "stdout",
     "output_type": "stream",
     "text": [
      "Enter the string : #pravin@bhai\n",
      "String Contains Special Character\n"
     ]
    }
   ],
   "source": [
    "# 7. Write a Python Program to check if a string contains any special character?\n",
    "\n",
    "str6 = (input(\"Enter the string : \"))\n",
    "if str6.isalnum() == True:\n",
    "    print(\"String Does Not Contain Special Character\")\n",
    "else:\n",
    "    print(\"String Contains Special Character\")"
   ]
  },
  {
   "cell_type": "code",
   "execution_count": null,
   "metadata": {},
   "outputs": [],
   "source": []
  }
 ],
 "metadata": {
  "kernelspec": {
   "display_name": "Python 3",
   "language": "python",
   "name": "python3"
  },
  "language_info": {
   "codemirror_mode": {
    "name": "ipython",
    "version": 3
   },
   "file_extension": ".py",
   "mimetype": "text/x-python",
   "name": "python",
   "nbconvert_exporter": "python",
   "pygments_lexer": "ipython3",
   "version": "3.8.5"
  }
 },
 "nbformat": 4,
 "nbformat_minor": 4
}
