{
 "cells": [
  {
   "cell_type": "code",
   "execution_count": 1,
   "metadata": {},
   "outputs": [
    {
     "name": "stdout",
     "output_type": "stream",
     "text": [
      "Enter number of terms: 7\n",
      "Fibonacci sequence:\n",
      "0\n",
      "1\n",
      "1\n",
      "2\n",
      "3\n",
      "5\n",
      "8\n"
     ]
    }
   ],
   "source": [
    "# 1. Write a Python Program to Display Fibonacci Sequence Using Recursion?\n",
    "\n",
    "def fibonacci(n):\n",
    "    if(n <= 1):\n",
    "        return n\n",
    "    else:\n",
    "        return(fibonacci(n-1) + fibonacci(n-2))\n",
    "    \n",
    "n = int(input(\"Enter number of terms: \"))\n",
    "\n",
    "if n <= 0 :\n",
    "    print(\"Invalid Input\")\n",
    "else:    \n",
    "    print(\"Fibonacci sequence:\")\n",
    "    for i in range(n):\n",
    "        print(fibonacci(i))"
   ]
  },
  {
   "cell_type": "code",
   "execution_count": 2,
   "metadata": {},
   "outputs": [
    {
     "name": "stdout",
     "output_type": "stream",
     "text": [
      "Enter the number: 19\n",
      "The factorial of 19 is 121645100408832000\n"
     ]
    }
   ],
   "source": [
    "# 2. Write a Python Program to Find Factorial of Number Using Recursion?\n",
    "\n",
    "num = int(input(\"Enter the number: \"))\n",
    "def fact(n):\n",
    "    if num < 0:\n",
    "        print(\"Factorial for negative numbers do not exists\")\n",
    "    elif num == 0:\n",
    "        print(\"The factorial of 0 is 1\")\n",
    "    elif n == 1:\n",
    "        return n     \n",
    "    else:\n",
    "        return n * fact(n-1)\n",
    "print(\"The factorial of\", num, \"is\", fact(num))  "
   ]
  },
  {
   "cell_type": "code",
   "execution_count": 3,
   "metadata": {},
   "outputs": [
    {
     "name": "stdout",
     "output_type": "stream",
     "text": [
      "Enter your weight in kg :64\n",
      "Enter height in meter : 1.7\n",
      "Body Mass Index is 22.145328719723185\n"
     ]
    }
   ],
   "source": [
    "# 3. Write a Python Program to calculate your Body Mass Index?\n",
    "\n",
    "weight = float(input(\"Enter your weight in kg :\"))\n",
    "height = float(input(\"Enter height in meter : \"))\n",
    "BMI = weight / height**2\n",
    "print(\"Body Mass Index is\", BMI)"
   ]
  },
  {
   "cell_type": "code",
   "execution_count": 4,
   "metadata": {},
   "outputs": [
    {
     "name": "stdout",
     "output_type": "stream",
     "text": [
      "Enter the number : 3\n",
      "Entered number is 3\n",
      "The natural logarithm of 3 is 1.0986122886681098\n"
     ]
    }
   ],
   "source": [
    "# 4. Write a Python Program to calculate the natural logarithm of any number?\n",
    "\n",
    "from math import log\n",
    "num = int(input(\"Enter the number : \"))\n",
    "print(\"Entered number is\", num)\n",
    "print(f\"The natural logarithm of {num} is {log(num)}\")"
   ]
  },
  {
   "cell_type": "code",
   "execution_count": 5,
   "metadata": {},
   "outputs": [
    {
     "name": "stdout",
     "output_type": "stream",
     "text": [
      "Enter the number : 10\n",
      "The cube sum of first 10 natural numbers is : 3025\n"
     ]
    }
   ],
   "source": [
    "# 5. Write a Python Program for cube sum of first n natural numbers?\n",
    "\n",
    "num = int(input(\"Enter the number : \"))\n",
    "if num == 0:\n",
    "    print(\"Zero is not a natural number\")\n",
    "else:\n",
    "    sum = 0\n",
    "    for i in range(1,num + 1):\n",
    "        x = i**3\n",
    "        sum += x\n",
    "    print(f\"The cube sum of first {num} natural numbers is : {sum}\")"
   ]
  },
  {
   "cell_type": "code",
   "execution_count": null,
   "metadata": {},
   "outputs": [],
   "source": []
  },
  {
   "cell_type": "code",
   "execution_count": null,
   "metadata": {},
   "outputs": [],
   "source": []
  },
  {
   "cell_type": "code",
   "execution_count": null,
   "metadata": {},
   "outputs": [],
   "source": []
  }
 ],
 "metadata": {
  "kernelspec": {
   "display_name": "Python 3",
   "language": "python",
   "name": "python3"
  },
  "language_info": {
   "codemirror_mode": {
    "name": "ipython",
    "version": 3
   },
   "file_extension": ".py",
   "mimetype": "text/x-python",
   "name": "python",
   "nbconvert_exporter": "python",
   "pygments_lexer": "ipython3",
   "version": "3.8.5"
  }
 },
 "nbformat": 4,
 "nbformat_minor": 4
}
