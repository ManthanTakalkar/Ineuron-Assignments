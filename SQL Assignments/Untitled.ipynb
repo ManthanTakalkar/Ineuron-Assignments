{
 "cells": [
  {
   "cell_type": "code",
   "execution_count": 1,
   "metadata": {},
   "outputs": [],
   "source": [
    "import mysql.connector as connection\n",
    "con = connection.connect(host=\"localhost\", user=\"root\", passwd=\"mkt2mysql\", use_pure = True, database='mkt')\n",
    "cur = con.cursor()"
   ]
  },
  {
   "cell_type": "code",
   "execution_count": 2,
   "metadata": {},
   "outputs": [
    {
     "data": {
      "text/plain": [
       "True"
      ]
     },
     "execution_count": 2,
     "metadata": {},
     "output_type": "execute_result"
    }
   ],
   "source": [
    "con.is_connected()"
   ]
  },
  {
   "cell_type": "code",
   "execution_count": 3,
   "metadata": {},
   "outputs": [],
   "source": [
    "class create_table:\n",
    "    def create(self,t_name,col1,col2,col3,col4):\n",
    "        cur.execute(f\"create table {t_name}({col1}, {col2}, {col3}, {col4})\")\n",
    "        con.commit()\n",
    "t1 = create_table()\n",
    "t1.create(\"Worker\", \"emp_id int\", \"FIRST_NAME varchar(25)\", \"LAST_NAME varchar(25)\", \"DEPARTMENT varchar(40)\")"
   ]
  },
  {
   "cell_type": "code",
   "execution_count": 4,
   "metadata": {},
   "outputs": [],
   "source": [
    "class insert_values:\n",
    "    def insert(self,e_id,f,l,d):\n",
    "        cur.execute(f\"insert into Worker values{(e_id,f,l,d)}\")\n",
    "        con.commit()\n",
    "i = insert_values()\n",
    "i.insert(1,'BURT','DUKAKIS','Information Technology')\n",
    "i.insert(2,'VAL','BOLGER','Computer Science')\n",
    "i.insert(3,'TOM','MCKELLEN','Automobile')\n",
    "i.insert(4,'GOLDIE','BRODY','Computer Science')\n",
    "i.insert(5,'JOHNNY','CAGE','Petrochemical')\n",
    "i.insert(6,'JOHN','Depp','Petrochemical')\n",
    "i.insert(7,'JODIE','DEGENERES','Automobile')\n",
    "i.insert(8,'TOM','MIRANDA','Information Technology')\n",
    "i.insert(9,'KIRK','JOVOVICH','Computer Science')\n",
    "i.insert(10,'NICK','STALLONE','Automobile')"
   ]
  },
  {
   "cell_type": "code",
   "execution_count": 5,
   "metadata": {},
   "outputs": [
    {
     "data": {
      "text/plain": [
       "[(1, 'BURT', 'DUKAKIS', 'Information Technology'),\n",
       " (2, 'VAL', 'BOLGER', 'Computer Science'),\n",
       " (3, 'TOM', 'MCKELLEN', 'Automobile'),\n",
       " (4, 'GOLDIE', 'BRODY', 'Computer Science'),\n",
       " (5, 'JOHNNY', 'CAGE', 'Petrochemical'),\n",
       " (6, 'JOHN', 'Depp', 'Petrochemical'),\n",
       " (7, 'JODIE', 'DEGENERES', 'Automobile'),\n",
       " (8, 'TOM', 'MIRANDA', 'Information Technology'),\n",
       " (9, 'KIRK', 'JOVOVICH', 'Computer Science'),\n",
       " (10, 'NICK', 'STALLONE', 'Automobile')]"
      ]
     },
     "execution_count": 5,
     "metadata": {},
     "output_type": "execute_result"
    }
   ],
   "source": [
    "cur.execute('select * from Worker')\n",
    "cur.fetchall()"
   ]
  },
  {
   "cell_type": "code",
   "execution_count": null,
   "metadata": {},
   "outputs": [],
   "source": []
  },
  {
   "cell_type": "code",
   "execution_count": null,
   "metadata": {},
   "outputs": [],
   "source": [
    "#Q-1. Write an SQL query to fetch “FIRST_NAME” from Worker table using the alias name as <WORKER_NAME>"
   ]
  },
  {
   "cell_type": "code",
   "execution_count": 6,
   "metadata": {},
   "outputs": [
    {
     "name": "stdout",
     "output_type": "stream",
     "text": [
      "WORKER_NAME\n",
      "BURT\n",
      "VAL\n",
      "TOM\n",
      "GOLDIE\n",
      "JOHNNY\n",
      "JOHN\n",
      "JODIE\n",
      "TOM\n",
      "KIRK\n",
      "NICK\n"
     ]
    }
   ],
   "source": [
    "class fetch_data:\n",
    "    def fetch(self,col_name, alias_name):\n",
    "        try:\n",
    "            cur.execute(f\"select {col_name} as {alias_name} from Worker\")\n",
    "            for i in cur.description:\n",
    "                print(i[0])\n",
    "            for j in cur.fetchall():\n",
    "                print(j[0])\n",
    "        except Exception as e:\n",
    "            raise e\n",
    "f = fetch_data()\n",
    "f.fetch('FIRST_NAME','WORKER_NAME')"
   ]
  },
  {
   "cell_type": "code",
   "execution_count": null,
   "metadata": {},
   "outputs": [],
   "source": [
    "#Q-2. Write an SQL query to fetch unique values of DEPARTMENT from Worker table."
   ]
  },
  {
   "cell_type": "code",
   "execution_count": 7,
   "metadata": {},
   "outputs": [
    {
     "name": "stdout",
     "output_type": "stream",
     "text": [
      "Information Technology\n",
      "Computer Science\n",
      "Automobile\n",
      "Petrochemical\n"
     ]
    }
   ],
   "source": [
    "class unique_data:\n",
    "    def unique(self,col_name):\n",
    "        try:\n",
    "            cur.execute(f\"select distinct {col_name} from Worker\")\n",
    "            for i in cur.fetchall():\n",
    "                print(i[0])\n",
    "        except Exception as e:\n",
    "            raise e\n",
    "u = unique_data()\n",
    "u.unique('DEPARTMENT')"
   ]
  },
  {
   "cell_type": "code",
   "execution_count": null,
   "metadata": {},
   "outputs": [],
   "source": [
    "#Q-3. Write an SQL query to show the last 5 record from a table."
   ]
  },
  {
   "cell_type": "code",
   "execution_count": 8,
   "metadata": {},
   "outputs": [
    {
     "name": "stdout",
     "output_type": "stream",
     "text": [
      "(6, 'JOHN', 'Depp', 'Petrochemical')\n",
      "(7, 'JODIE', 'DEGENERES', 'Automobile')\n",
      "(8, 'TOM', 'MIRANDA', 'Information Technology')\n",
      "(9, 'KIRK', 'JOVOVICH', 'Computer Science')\n",
      "(10, 'NICK', 'STALLONE', 'Automobile')\n"
     ]
    }
   ],
   "source": [
    "class last5_data:\n",
    "    def fetch_last5(self,table,col_name):\n",
    "        try:\n",
    "            cur.execute(f\"(select * from {table} order by {col_name} desc limit 5)order by emp_id asc  \")\n",
    "            for i in cur.fetchall():\n",
    "                print(i)\n",
    "        except Exception as e:\n",
    "            raise e\n",
    "l = last5_data()\n",
    "l.fetch_last5('Worker','emp_id')"
   ]
  },
  {
   "cell_type": "code",
   "execution_count": null,
   "metadata": {},
   "outputs": [],
   "source": []
  }
 ],
 "metadata": {
  "kernelspec": {
   "display_name": "Python 3",
   "language": "python",
   "name": "python3"
  },
  "language_info": {
   "codemirror_mode": {
    "name": "ipython",
    "version": 3
   },
   "file_extension": ".py",
   "mimetype": "text/x-python",
   "name": "python",
   "nbconvert_exporter": "python",
   "pygments_lexer": "ipython3",
   "version": "3.8.5"
  }
 },
 "nbformat": 4,
 "nbformat_minor": 4
}
