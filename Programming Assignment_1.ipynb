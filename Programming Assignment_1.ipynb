{
 "cells": [
  {
   "cell_type": "markdown",
   "metadata": {},
   "source": [
    "### Q1.Write a python program to print \"Hello Python\"?"
   ]
  },
  {
   "cell_type": "code",
   "execution_count": 1,
   "metadata": {},
   "outputs": [
    {
     "name": "stdout",
     "output_type": "stream",
     "text": [
      "Hello Python\n"
     ]
    }
   ],
   "source": [
    "print(\"Hello Python\")"
   ]
  },
  {
   "cell_type": "markdown",
   "metadata": {},
   "source": [
    "### Q2.Write a python program to do arithmetical operations addition and division.?"
   ]
  },
  {
   "cell_type": "code",
   "execution_count": 2,
   "metadata": {},
   "outputs": [
    {
     "name": "stdout",
     "output_type": "stream",
     "text": [
      "Addition is: 24\n",
      "Division is: 2.0\n"
     ]
    }
   ],
   "source": [
    "a=16\n",
    "b=8\n",
    "\n",
    "x=a+b\n",
    "print(\"Addition is:\",x)\n",
    "\n",
    "y=a/b\n",
    "print(\"Division is:\",y)"
   ]
  },
  {
   "cell_type": "markdown",
   "metadata": {},
   "source": [
    "### Q3.Write a python program to find the area of a triangle ?"
   ]
  },
  {
   "cell_type": "code",
   "execution_count": 3,
   "metadata": {},
   "outputs": [
    {
     "name": "stdout",
     "output_type": "stream",
     "text": [
      "Area of triangle is: 20.0\n"
     ]
    }
   ],
   "source": [
    "height=8\n",
    "base=5\n",
    "\n",
    "Area_of_triangle = 0.5 * base * height \n",
    "print(\"Area of triangle is:\",Area_of_triangle)  "
   ]
  },
  {
   "cell_type": "markdown",
   "metadata": {},
   "source": [
    "### Q4.Write a python program to swap two variables?"
   ]
  },
  {
   "cell_type": "code",
   "execution_count": 4,
   "metadata": {},
   "outputs": [
    {
     "name": "stdout",
     "output_type": "stream",
     "text": [
      "Value of c before swaping- MKT\n",
      "Value of d before swaping- 45\n",
      "Value of c after swaping is: 45\n",
      "Value of d after swaping is: MKT\n"
     ]
    }
   ],
   "source": [
    "c=\"MKT\"\n",
    "d=45\n",
    "\n",
    "print(\"Value of c before swaping-\",c)\n",
    "print(\"Value of d before swaping-\",d)\n",
    "\n",
    "c,d = d,c\n",
    "\n",
    "print(\"Value of c after swaping is:\",c)\n",
    "print(\"Value of d after swaping is:\",d)"
   ]
  },
  {
   "cell_type": "markdown",
   "metadata": {},
   "source": [
    "### Q5.Write a python program to generate a random number?"
   ]
  },
  {
   "cell_type": "code",
   "execution_count": 5,
   "metadata": {},
   "outputs": [
    {
     "name": "stdout",
     "output_type": "stream",
     "text": [
      "Random number: 0.09133252427389715\n"
     ]
    }
   ],
   "source": [
    "from random import *\n",
    "print('Random number:',random())"
   ]
  }
 ],
 "metadata": {
  "kernelspec": {
   "display_name": "Python 3",
   "language": "python",
   "name": "python3"
  },
  "language_info": {
   "codemirror_mode": {
    "name": "ipython",
    "version": 3
   },
   "file_extension": ".py",
   "mimetype": "text/x-python",
   "name": "python",
   "nbconvert_exporter": "python",
   "pygments_lexer": "ipython3",
   "version": "3.8.5"
  }
 },
 "nbformat": 4,
 "nbformat_minor": 4
}
